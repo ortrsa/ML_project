{
  "nbformat": 4,
  "nbformat_minor": 0,
  "metadata": {
    "colab": {
      "name": "Improved ML project ",
      "provenance": [],
      "collapsed_sections": [
        "lRRh1tlg4kqf",
        "jNPiGPTvlsTM"
      ],
      "machine_shape": "hm",
      "include_colab_link": true
    },
    "kernelspec": {
      "name": "python3",
      "display_name": "Python 3"
    },
    "language_info": {
      "name": "python"
    },
    "gpuClass": "standard",
    "accelerator": "GPU"
  },
  "cells": [
    {
      "cell_type": "markdown",
      "metadata": {
        "id": "view-in-github",
        "colab_type": "text"
      },
      "source": [
        "<a href=\"https://colab.research.google.com/github/ortrsa/ML_project/blob/main/Improved_ML_project.ipynb\" target=\"_parent\"><img src=\"https://colab.research.google.com/assets/colab-badge.svg\" alt=\"Open In Colab\"/></a>"
      ]
    },
    {
      "cell_type": "markdown",
      "source": [
        "<img src=\"https://upload.wikimedia.org/wikipedia/commons/thumb/a/a9/Amazon_logo.svg/603px-Amazon_logo.svg.png\" />"
      ],
      "metadata": {
        "id": "WyGCiirweK7N"
      }
    },
    {
      "cell_type": "markdown",
      "source": [
        "מגישים: אוריה שמלה - 312573744 , אור טרבלסי - 206066326\n"
      ],
      "metadata": {
        "id": "4gW8O5gKXx9X"
      }
    },
    {
      "cell_type": "markdown",
      "source": [
        "# Import data and libraries:"
      ],
      "metadata": {
        "id": "AFk0FRBnlpUF"
      }
    },
    {
      "cell_type": "markdown",
      "source": [
        "## Import libraries"
      ],
      "metadata": {
        "id": "lRRh1tlg4kqf"
      }
    },
    {
      "cell_type": "code",
      "execution_count": 38,
      "metadata": {
        "colab": {
          "base_uri": "https://localhost:8080/"
        },
        "id": "jMWQSO6gld--",
        "outputId": "ed2c1db6-0b46-4f11-8f00-9d4162815748"
      },
      "outputs": [
        {
          "output_type": "stream",
          "name": "stderr",
          "text": [
            "[nltk_data] Downloading package punkt to /root/nltk_data...\n",
            "[nltk_data]   Package punkt is already up-to-date!\n",
            "[nltk_data] Downloading package stopwords to /root/nltk_data...\n",
            "[nltk_data]   Package stopwords is already up-to-date!\n"
          ]
        },
        {
          "output_type": "execute_result",
          "data": {
            "text/plain": [
              "True"
            ]
          },
          "metadata": {},
          "execution_count": 38
        }
      ],
      "source": [
        "import numpy as np\n",
        "import pandas as pd \n",
        "import matplotlib.pyplot as plt\n",
        "import seaborn as sns\n",
        "\n",
        "# ignor wornings\n",
        "import os\n",
        "os.environ['TF_CPP_MIN_LOG_LEVEL'] = '2' \n",
        "import warnings\n",
        "warnings.filterwarnings(\"ignore\")  \n",
        "import pickle \n",
        "\n",
        "# tensorflow lib\n",
        "import tensorflow as tf\n",
        "from tensorflow.keras.preprocessing.text import Tokenizer\n",
        "from tensorflow.keras.preprocessing.sequence import pad_sequences\n",
        "from tensorflow.keras.layers import Embedding, GRU, Dense, Flatten, Bidirectional \n",
        "from sklearn.feature_extraction.text import CountVectorizer\n",
        "\n",
        "from sklearn.metrics import confusion_matrix\n",
        "from sklearn.model_selection import train_test_split\n",
        "from sklearn.metrics import f1_score\n",
        "from sklearn.linear_model import LogisticRegression\n",
        "from sklearn.ensemble import AdaBoostClassifier\n",
        "from xgboost import XGBClassifier\n",
        "\n",
        "\n",
        "# nlp tools\n",
        "import string\n",
        "import re\n",
        "import nltk \n",
        "\n",
        "from nltk.stem import PorterStemmer\n",
        "from nltk.tokenize import word_tokenize\n",
        "from nltk.corpus import stopwords\n",
        "\n",
        "nltk.download('punkt')\n",
        "nltk.download('stopwords')"
      ]
    },
    {
      "cell_type": "markdown",
      "source": [
        "## Import data from google Drive\n"
      ],
      "metadata": {
        "id": "jNPiGPTvlsTM"
      }
    },
    {
      "cell_type": "code",
      "source": [
        "from google.colab import drive\n",
        "drive.mount('/content/drive')\n",
        "df = pd.read_csv(\"/content/drive/MyDrive/ML_proj/Reviews.csv\")\n"
      ],
      "metadata": {
        "id": "2IHzijrnljkd",
        "colab": {
          "base_uri": "https://localhost:8080/"
        },
        "outputId": "fee42b22-c9c7-4573-94cd-62125f3a5143"
      },
      "execution_count": 39,
      "outputs": [
        {
          "output_type": "stream",
          "name": "stdout",
          "text": [
            "Drive already mounted at /content/drive; to attempt to forcibly remount, call drive.mount(\"/content/drive\", force_remount=True).\n"
          ]
        }
      ]
    },
    {
      "cell_type": "markdown",
      "source": [
        "# Identify whether a review is positive or negative according to 5 models"
      ],
      "metadata": {
        "id": "kUxT9ZVv3rlf"
      }
    },
    {
      "cell_type": "markdown",
      "source": [
        "## Data processing"
      ],
      "metadata": {
        "id": "C1GiW28l4JKG"
      }
    },
    {
      "cell_type": "markdown",
      "source": [
        "We first checked whether the data ןis balanced, and saw that there is much more 1 (positive reviews) than 0 (negative reviews) so  we artificially balanced it because we wanted that the model won't be biased towards the positive reviews."
      ],
      "metadata": {
        "id": "39FY3flI9-CK"
      }
    },
    {
      "cell_type": "markdown",
      "source": [
        "We took 100,000 of each type of review and combined it into one table, then mixed the table, went through all the reviews and performed the following:"
      ],
      "metadata": {
        "id": "rgt8wV35-dKU"
      }
    },
    {
      "cell_type": "code",
      "source": [
        "org_df = df # save the original df for later use\n",
        "df.loc[(df.Score <= 3)  , \"Score\"] = 0\n",
        "df.loc[(df.Score >= 4)  , \"Score\"] = 1\n",
        "df[\"Score\"] = df[\"Score\"].astype(int)"
      ],
      "metadata": {
        "id": "oHGZG7K34NwL"
      },
      "execution_count": 22,
      "outputs": []
    },
    {
      "cell_type": "code",
      "source": [
        "# balance the data!\n",
        "good = df[df['Score'] == 1]\n",
        "bad =  df[df['Score'] == 0]\n",
        "\n",
        "#Set data size ans suffel \n",
        "datasize = 200000\n",
        "result = pd.concat([bad[:int(datasize/2)],good[:int(datasize/2)]])\n",
        "data = result.sample(frac=1).reset_index(drop=True)\n",
        "data.shape"
      ],
      "metadata": {
        "colab": {
          "base_uri": "https://localhost:8080/"
        },
        "id": "QIn5TBoz4u2m",
        "outputId": "168f80a6-a8d8-4f8b-d6f0-e7b1a00e8bcf"
      },
      "execution_count": 24,
      "outputs": [
        {
          "output_type": "execute_result",
          "data": {
            "text/plain": [
              "(200000, 12)"
            ]
          },
          "metadata": {},
          "execution_count": 24
        }
      ]
    },
    {
      "cell_type": "code",
      "source": [
        "# use NLP \n",
        "stop_words = stopwords.words('english')\n",
        "stop_words = stop_words[:100]\n",
        "\n",
        "ps = PorterStemmer()\n",
        "count = 0\n",
        "def Deal_with_sentence(x):\n",
        "    global count \n",
        "    x = re.sub('\\d', ' ', x) #Removes Digits\n",
        "    x = re.sub('<.*?>', ' ', x) #Removes Html tags\n",
        "    x = x.translate(str.maketrans('', '', string.punctuation)) #Removes Punctuations\n",
        "    token_sen = word_tokenize(x)\n",
        "    x = \" \".join([ps.stem(word) for word in token_sen if word.lower() not in stop_words])\n",
        "    count += 1\n",
        "    return x\n",
        "\n",
        "score = data['Score'].copy()\n",
        "Reviews = data[['Text']].copy()['Text']\n",
        "Reviews = Reviews.apply(Deal_with_sentence)\n",
        "\n",
        "\n",
        "# Reviews = pd.read_pickle(\"/content/drive/MyDrive/ML_proj/Reviews.pkl\") \n",
        "# score = pd.read_pickle(\"/content/drive/MyDrive/ML_proj/score.pkl\")"
      ],
      "metadata": {
        "id": "OFryfo2W5BKA"
      },
      "execution_count": 26,
      "outputs": []
    },
    {
      "cell_type": "code",
      "source": [
        "model = CountVectorizer(stop_words = 'english')\n",
        "vectors = model.fit_transform(Reviews)\n",
        "\n"
      ],
      "metadata": {
        "id": "jpNMdkJ2X87-"
      },
      "execution_count": 31,
      "outputs": []
    },
    {
      "cell_type": "code",
      "source": [
        "X_train, X_test, y_train, y_test = train_test_split(data, score, random_state=0)"
      ],
      "metadata": {
        "id": "O0daa5V4Yd7f"
      },
      "execution_count": 29,
      "outputs": []
    },
    {
      "cell_type": "markdown",
      "source": [
        "## Modeling"
      ],
      "metadata": {
        "id": "iojD7rnc6BqK"
      }
    },
    {
      "cell_type": "code",
      "source": [
        "x_train, x_test, y_train, y_test = train_test_split(vectors, score, train_size=0.8, random_state=1)"
      ],
      "metadata": {
        "id": "qhhFvKE1tN6q"
      },
      "execution_count": 32,
      "outputs": []
    },
    {
      "cell_type": "code",
      "source": [
        "def get_score(clf_model, x_score):\n",
        "  y_true = np.array(y_test, dtype=np.int)\n",
        "  y_pred = np.squeeze(np.array(clf_model.predict(x_score) >= 0.5, dtype=np.int))\n",
        "  f1 = f1_score(y_true, y_pred)\n",
        "  print(\"F1 score:\", round(f1*100,2) , \"%\")\n",
        "  acc = np.mean(np.array(y_pred == y_true, dtype=np.int))\n",
        "  print(\"Test accuracy score:\", round(acc*100,2) , \"%\")\n",
        "\n",
        "  cm = confusion_matrix(y_true, y_pred)\n",
        "  sns.heatmap(cm,fmt=\".0f\", annot=True)\n",
        "  plt.xlabel(\"Predict\")\n",
        "  plt.ylabel(\"Test\")\n",
        "  plt.title(\"Confusion Matrix\")\n",
        "  plt.show()"
      ],
      "metadata": {
        "id": "kZeK5ebb59_h"
      },
      "execution_count": 33,
      "outputs": []
    },
    {
      "cell_type": "markdown",
      "source": [
        "### XGBOOST"
      ],
      "metadata": {
        "id": "MML_FDLUC8TG"
      }
    },
    {
      "cell_type": "code",
      "source": [
        "XG_clf = XGBClassifier(n_estimators= 100, n_jobs=-1, learning_rate=0.2, seed=0, eval_metric = 'mlogloss')\n",
        "XG_clf.fit(x_train, y_train)\n",
        "XG_clf.score(x_test, y_test)\n",
        "\n",
        "# XG_clf = pickle.load(open(\"/content/drive/MyDrive/ML_proj/xgb.pkl\", \"rb\"))\n",
        "\n",
        "get_score(XG_clf, x_test)"
      ],
      "metadata": {
        "id": "0wx2Y1yh59xM",
        "colab": {
          "base_uri": "https://localhost:8080/",
          "height": 329
        },
        "outputId": "4e4237db-eefb-40a7-9572-60692e521135"
      },
      "execution_count": 34,
      "outputs": [
        {
          "output_type": "stream",
          "name": "stdout",
          "text": [
            "F1 score: 78.71 %\n",
            "Test accuracy score: 79.19 %\n"
          ]
        },
        {
          "output_type": "display_data",
          "data": {
            "text/plain": [
              "<Figure size 432x288 with 2 Axes>"
            ],
            "image/png": "[encoded data removed]"
          },
          "metadata": {
            "needs_background": "light"
          }
        }
      ]
    },
    {
      "cell_type": "markdown",
      "source": [
        "### ADABOOST"
      ],
      "metadata": {
        "id": "CImUa3aSFSca"
      }
    },
    {
      "cell_type": "code",
      "source": [
        "Ada = AdaBoostClassifier(n_estimators=50,algorithm=\"SAMME.R\",learning_rate=0.37)\n",
        "Ada.fit(x_train, y_train)\n",
        "\n",
        "#pickle.dump(Ada, open(\"/content/drive/MyDrive/ML_proj/Ada.pkl\", \"wb\"))\n",
        "# Ada = pickle.load(open(\"/content/drive/MyDrive/ML_proj/Ada.pkl\", \"rb\"))\n",
        "\n",
        "get_score(Ada, x_test)"
      ],
      "metadata": {
        "id": "6tDyp2AuDeBN",
        "colab": {
          "base_uri": "https://localhost:8080/",
          "height": 329
        },
        "outputId": "88daf159-3ab2-4c24-f610-c027ffad88bc"
      },
      "execution_count": 35,
      "outputs": [
        {
          "output_type": "stream",
          "name": "stdout",
          "text": [
            "F1 score: 73.03 %\n",
            "Test accuracy score: 74.38 %\n"
          ]
        },
        {
          "output_type": "display_data",
          "data": {
            "text/plain": [
              "<Figure size 432x288 with 2 Axes>"
            ],
            "image/png": "[encoded data removed]"
          },
          "metadata": {
            "needs_background": "light"
          }
        }
      ]
    },
    {
      "cell_type": "markdown",
      "source": [
        "### LogisticRegression\n"
      ],
      "metadata": {
        "id": "08TmXvv2R0Zb"
      }
    },
    {
      "cell_type": "code",
      "source": [
        "LR = LogisticRegression().fit(x_train, y_train)\n",
        "\n",
        "# pickle.dump(LR, open(\"/content/drive/MyDrive/ML_proj/LR.pkl\", \"wb\"))\n",
        "# LR = pickle.load(open(\"/content/drive/MyDrive/ML_proj/LR.pkl\", \"rb\"))\n",
        "\n",
        "get_score(LR, x_test)\n"
      ],
      "metadata": {
        "colab": {
          "base_uri": "https://localhost:8080/",
          "height": 329
        },
        "id": "ny_2yKTcGp9j",
        "outputId": "8d73cae4-62f6-4e97-9b62-43f092e09569"
      },
      "execution_count": 36,
      "outputs": [
        {
          "output_type": "stream",
          "name": "stdout",
          "text": [
            "F1 score: 85.74 %\n",
            "Test accuracy score: 85.72 %\n"
          ]
        },
        {
          "output_type": "display_data",
          "data": {
            "text/plain": [
              "<Figure size 432x288 with 2 Axes>"
            ],
            "image/png": "[encoded data removed]"
          },
          "metadata": {
            "needs_background": "light"
          }
        }
      ]
    }
  ]
}